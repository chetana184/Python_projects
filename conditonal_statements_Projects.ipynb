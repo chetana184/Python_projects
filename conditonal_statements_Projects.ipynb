{
 "cells": [
  {
   "cell_type": "markdown",
   "id": "22559cc8-f4a1-4c5e-8511-150538133990",
   "metadata": {},
   "source": [
    "# Number Checker"
   ]
  },
  {
   "cell_type": "code",
   "execution_count": 4,
   "id": "6f5ec6f8-c09a-4e5f-8216-d19813073c77",
   "metadata": {},
   "outputs": [
    {
     "name": "stdin",
     "output_type": "stream",
     "text": [
      "Enter a Number: 16\n"
     ]
    },
    {
     "name": "stdout",
     "output_type": "stream",
     "text": [
      "It is a Positive Number.\n"
     ]
    }
   ],
   "source": [
    "num = float(input('Enter a Number:'))\n",
    "if num > 0:\n",
    "    print('It is a Positive Number.')\n",
    "elif num < 0:\n",
    "    print('It is Negative Number.')\n",
    "else:\n",
    "    print('It is Zero')"
   ]
  },
  {
   "cell_type": "markdown",
   "id": "75e17df7-7e62-452d-9afd-45d817193466",
   "metadata": {},
   "source": [
    "# Grocery Discount System"
   ]
  },
  {
   "cell_type": "code",
   "execution_count": 9,
   "id": "c247e143-0f0d-42ad-a2c0-c0f052fe558e",
   "metadata": {},
   "outputs": [
    {
     "name": "stdin",
     "output_type": "stream",
     "text": [
      "Enter your total bill (Rs.): 6500\n"
     ]
    },
    {
     "name": "stdout",
     "output_type": "stream",
     "text": [
      "Discount: Rs.1300.0\n",
      "Final amount to pay: Rs.5200.0\n"
     ]
    }
   ],
   "source": [
    "amount = float(input('Enter your total bill (Rs.):'))\n",
    "if amount >= 5000:\n",
    "    discount = 0.20\n",
    "elif amount >= 3000:\n",
    "    discount = 0.15\n",
    "elif amounnt >= 1000:\n",
    "    discount = 0.10\n",
    "else:\n",
    "    discoount = 0.0\n",
    "discount_amount = amount*discount\n",
    "final_amount = amount - discount_amount\n",
    "print(f'Discount: Rs.{discount_amount}')\n",
    "print(f'Final amount to pay: Rs.{final_amount}')"
   ]
  },
  {
   "cell_type": "markdown",
   "id": "012bda15-602f-46b2-8b08-cf5be7009ee3",
   "metadata": {},
   "source": [
    "# Time of Day Greeter"
   ]
  },
  {
   "cell_type": "code",
   "execution_count": 12,
   "id": "8a6e795f-45e6-4d02-826e-f6a67fda2ad8",
   "metadata": {},
   "outputs": [
    {
     "name": "stdin",
     "output_type": "stream",
     "text": [
      "Enter the hour (0-23): 10\n"
     ]
    },
    {
     "name": "stdout",
     "output_type": "stream",
     "text": [
      "Good Morning!\n"
     ]
    }
   ],
   "source": [
    "hour = int(input('Enter the hour (0-23):'))\n",
    "if 5 <= hour < 12:\n",
    "    print('Good Morning!')\n",
    "elif 12 <= hour < 17:\n",
    "    print('Good Afternoon!')\n",
    "elif 17 <= hour < 21:\n",
    "    print('Good Evening!')\n",
    "else:\n",
    "    print('Good Night!')"
   ]
  },
  {
   "cell_type": "markdown",
   "id": "f7b11731-1488-4135-8a22-a575b69eb092",
   "metadata": {},
   "source": [
    "# BMI Calculator"
   ]
  },
  {
   "cell_type": "code",
   "execution_count": 13,
   "id": "9867b184-0fcd-4c07-88a6-0241c73d2ccc",
   "metadata": {},
   "outputs": [
    {
     "name": "stdin",
     "output_type": "stream",
     "text": [
      "Enter your weight in kg:  55\n",
      "Enter your height in meters:  1.5\n"
     ]
    },
    {
     "name": "stdout",
     "output_type": "stream",
     "text": [
      "Your BMI is : 24.44\n",
      "You have normal weight.\n"
     ]
    }
   ],
   "source": [
    "weight = float(input('Enter your weight in kg: '))\n",
    "height = float(input('Enter your height in meters: '))\n",
    "bmi = weight/(height**2)\n",
    "print(f'Your BMI is : {bmi:.2f}')\n",
    "if bmi < 18.5:\n",
    "    print('You are underweight.')\n",
    "elif bmi < 25:\n",
    "    print('You have normal weight.')\n",
    "elif bmi < 30:\n",
    "    print('You are overweight.')\n",
    "else:\n",
    "    print('You are obese.')"
   ]
  },
  {
   "cell_type": "markdown",
   "id": "92ad4464-4faa-4067-8ac6-4c19711422de",
   "metadata": {},
   "source": [
    "# Simple Login Checker"
   ]
  },
  {
   "cell_type": "code",
   "execution_count": 16,
   "id": "238cce78-43c8-4574-9454-3647bf1db606",
   "metadata": {},
   "outputs": [
    {
     "name": "stdin",
     "output_type": "stream",
     "text": [
      "Enter your username: user\n",
      "Enter your password 123\n"
     ]
    },
    {
     "name": "stdout",
     "output_type": "stream",
     "text": [
      "Invalid Credentials\n"
     ]
    }
   ],
   "source": [
    "username = input('Enter your username:')\n",
    "password = input('Enter your password')\n",
    "if username=='Admin' and password=='2916':\n",
    "    print('Login Successful')\n",
    "else:\n",
    "    print('Invalid Credentials')"
   ]
  },
  {
   "cell_type": "markdown",
   "id": "95d9c661-6f9f-47e6-9ba5-f93e43d45787",
   "metadata": {},
   "source": [
    "# Restaurant Menu Order"
   ]
  },
  {
   "cell_type": "code",
   "execution_count": 17,
   "id": "38de7e22-5506-41bb-9e12-9eedaa7d33be",
   "metadata": {},
   "outputs": [
    {
     "name": "stdin",
     "output_type": "stream",
     "text": [
      "Enter a food item :  Burger\n"
     ]
    },
    {
     "name": "stdout",
     "output_type": "stream",
     "text": [
      "Price : 150\n"
     ]
    }
   ],
   "source": [
    "item = input('Enter a food item : ')\n",
    "if item == 'Pizza':\n",
    "    print('Price : 250')\n",
    "elif item == 'Burger':\n",
    "    print('Price : 150')\n",
    "elif item == 'Idli':\n",
    "    print('Price : 50')\n",
    "elif item == 'Noodles':\n",
    "    print('Price : 110')\n",
    "else:\n",
    "    print('Item not availabel.')"
   ]
  },
  {
   "cell_type": "code",
   "execution_count": null,
   "id": "d80c9fc6-4fb2-4901-a402-46141c903f8a",
   "metadata": {},
   "outputs": [],
   "source": []
  }
 ],
 "metadata": {
  "kernelspec": {
   "display_name": "Python 3 (ipykernel)",
   "language": "python",
   "name": "python3"
  },
  "language_info": {
   "codemirror_mode": {
    "name": "ipython",
    "version": 3
   },
   "file_extension": ".py",
   "mimetype": "text/x-python",
   "name": "python",
   "nbconvert_exporter": "python",
   "pygments_lexer": "ipython3",
   "version": "3.12.7"
  }
 },
 "nbformat": 4,
 "nbformat_minor": 5
}
