{
 "cells": [
  {
   "cell_type": "markdown",
   "id": "922afc87-5158-415d-9a33-a23e6c0ffda2",
   "metadata": {},
   "source": [
    "# Area of Circle"
   ]
  },
  {
   "cell_type": "code",
   "execution_count": 2,
   "id": "4c7e7763-ee6d-41b4-af1e-8f5db5d93114",
   "metadata": {},
   "outputs": [],
   "source": [
    "radius = 7\n",
    "pi = 3.14159"
   ]
  },
  {
   "cell_type": "code",
   "execution_count": 3,
   "id": "a3fee433-2a9a-48af-bbd2-785d6d219d53",
   "metadata": {},
   "outputs": [],
   "source": [
    "area = pi*radius*radius"
   ]
  },
  {
   "cell_type": "code",
   "execution_count": 4,
   "id": "63f12a57-69f2-465f-9e82-5fe673ad00f5",
   "metadata": {},
   "outputs": [
    {
     "name": "stdout",
     "output_type": "stream",
     "text": [
      "Circle Area Calculator\n",
      "----------------------\n",
      "Radius:7\n",
      "Area:153.93791 square units\n"
     ]
    }
   ],
   "source": [
    "print('Circle Area Calculator')\n",
    "print('-'*22)\n",
    "print(f'Radius:{radius}')\n",
    "print(f'Area:{area} square units')"
   ]
  },
  {
   "cell_type": "markdown",
   "id": "a0ac4395-8ccb-4cf6-934f-46ca4fe253ae",
   "metadata": {},
   "source": [
    "# BMI Calculator"
   ]
  },
  {
   "cell_type": "code",
   "execution_count": 17,
   "id": "ea33aa2a-0634-43ec-8cec-f1ca1365bfd7",
   "metadata": {},
   "outputs": [
    {
     "name": "stdin",
     "output_type": "stream",
     "text": [
      "Enter weight in kg: 40.2\n",
      "Enter height in meters 1.27\n"
     ]
    },
    {
     "name": "stdout",
     "output_type": "stream",
     "text": [
      "Your BMI is:24.9240498480997\n"
     ]
    }
   ],
   "source": [
    "weight=float(input('Enter weight in kg:'))\n",
    "height=float(input('Enter height in meters'))\n",
    "bmi=weight/(height**2)\n",
    "print(f'Your BMI is:{bmi}')"
   ]
  },
  {
   "cell_type": "markdown",
   "id": "ffb29914-ecba-4627-9865-1724ed1096e3",
   "metadata": {},
   "source": [
    "# Juice Shop Total Cost Estimator"
   ]
  },
  {
   "cell_type": "code",
   "execution_count": 21,
   "id": "55b1a9b0-39a1-48ba-b57b-cddbb665fad6",
   "metadata": {},
   "outputs": [
    {
     "name": "stdin",
     "output_type": "stream",
     "text": [
      "Enter juice name: Orange\n",
      "Enter price_per_glass: Rs 15\n",
      "How many glasses? 4\n"
     ]
    },
    {
     "name": "stdout",
     "output_type": "stream",
     "text": [
      "Orange Total: Rs 60\n"
     ]
    }
   ],
   "source": [
    "juice_name = input('Enter juice name:')\n",
    "price_per_glass = int(input('Enter price_per_glass: Rs'))\n",
    "glasses = int(input('How many glasses?'))\n",
    "total_cost = price_per_glass * glasses\n",
    "print( juice_name, 'Total: Rs', total_cost )"
   ]
  },
  {
   "cell_type": "code",
   "execution_count": null,
   "id": "84d65f14-d592-470c-b1a8-2ffc944d832a",
   "metadata": {},
   "outputs": [],
   "source": []
  }
 ],
 "metadata": {
  "kernelspec": {
   "display_name": "Python 3 (ipykernel)",
   "language": "python",
   "name": "python3"
  },
  "language_info": {
   "codemirror_mode": {
    "name": "ipython",
    "version": 3
   },
   "file_extension": ".py",
   "mimetype": "text/x-python",
   "name": "python",
   "nbconvert_exporter": "python",
   "pygments_lexer": "ipython3",
   "version": "3.12.7"
  }
 },
 "nbformat": 4,
 "nbformat_minor": 5
}
